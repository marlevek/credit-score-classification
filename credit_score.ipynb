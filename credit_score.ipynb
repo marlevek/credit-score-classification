{
 "cells": [
  {
   "cell_type": "markdown",
   "metadata": {},
   "source": [
    "Tradução das Variáveis:\n",
    "<ul>\n",
    "<li>SSN: Número do Seguro Social</li>\n",
    "<li>Occupation: Ocupação/profissão/cargo</li>\n",
    "<li>Annual_Income: Renda anual</li>\n",
    "<li>Monthly_Inhand_Salary: Salário base mensal</li>\n",
    "<li>Num_Bank_Accounts: Número de contas no banco</li>\n",
    "<li>Num_Credit_Card: Número de cartões de crédito</li>\n",
    "<li>Interest_Rate: Taxa de juros do cartão de crédito</li>\n",
    "<li>Num_of_Loan: Número de empréstimos/créditos</li>\n",
    "<li>Type_of_Loan: Tipo de empréstimo/crédito</li>\n",
    "<li>Delay_from_due_date: Atraso a partir da data de vencimento</li>\n",
    "<li>Num_of_Delayed_Payment: Número de pagamentos atrasados</li>\n",
    "<li>Changed_Credit_Limit: Limite de crétido alterado</li>\n",
    "<li>Num_Credit_Inquiries: Número de consultas ao crédito</li>\n",
    "<li>Credit_Mix:Mix de crédito</li>\n",
    "<li>Outstanding_Debt: Dívida restante a ser paga (em USD)</li>\n",
    "<li>Credit_Utilization_Ratio:A relação entre o crédito utilizado e o crédito total disponível</li>\n",
    "<li>Credit_History_Age: Quanto tempo a pessoa tem o crédito</li>\n",
    "<li>Payment_of_Min_Amount: Representa se somento foi pago o valor mínimo</li>\n",
    "<li>Total_EMI_per_month: EMI se refere a um esquema de pagamento onde você pode converter suas despesas de cartão de crédito em parcelas mensais fáceis. Se aprovado, o valor é depositado na conta corrente ou poupança e as parcelas são lançadas nas faturas do cartão</li>\n",
    "<li>Amount_invested_monthly: Quantia investida mensalmente</li>\n",
    "<li>Payment_Behaviour: Se refere ao comportamento de pagamento do titular do cartão, incluindo a frequência e pontualidade dos pagamentos, o uso do crédito disponível e a gestão geral da dívida do cartão de crédito</li>\n",
    "<li>Monthly_Balance: Saldo mensal</li>\n",
    "<li>Credit_Score: Score</li>\n",
    "</ul>"
   ]
  },
  {
   "cell_type": "code",
   "execution_count": 1,
   "metadata": {},
   "outputs": [],
   "source": [
    "import pandas as pd"
   ]
  },
  {
   "cell_type": "code",
   "execution_count": 2,
   "metadata": {},
   "outputs": [
    {
     "name": "stderr",
     "output_type": "stream",
     "text": [
      "C:\\Users\\marce\\AppData\\Local\\Temp\\ipykernel_16608\\189615863.py:1: DtypeWarning: Columns (26) have mixed types. Specify dtype option on import or set low_memory=False.\n",
      "  df = pd.read_csv('train.csv')\n"
     ]
    },
    {
     "data": {
      "text/html": [
       "<div>\n",
       "<style scoped>\n",
       "    .dataframe tbody tr th:only-of-type {\n",
       "        vertical-align: middle;\n",
       "    }\n",
       "\n",
       "    .dataframe tbody tr th {\n",
       "        vertical-align: top;\n",
       "    }\n",
       "\n",
       "    .dataframe thead th {\n",
       "        text-align: right;\n",
       "    }\n",
       "</style>\n",
       "<table border=\"1\" class=\"dataframe\">\n",
       "  <thead>\n",
       "    <tr style=\"text-align: right;\">\n",
       "      <th></th>\n",
       "      <th>ID</th>\n",
       "      <th>Customer_ID</th>\n",
       "      <th>Month</th>\n",
       "      <th>Name</th>\n",
       "      <th>Age</th>\n",
       "      <th>SSN</th>\n",
       "      <th>Occupation</th>\n",
       "      <th>Annual_Income</th>\n",
       "      <th>Monthly_Inhand_Salary</th>\n",
       "      <th>Num_Bank_Accounts</th>\n",
       "      <th>...</th>\n",
       "      <th>Credit_Mix</th>\n",
       "      <th>Outstanding_Debt</th>\n",
       "      <th>Credit_Utilization_Ratio</th>\n",
       "      <th>Credit_History_Age</th>\n",
       "      <th>Payment_of_Min_Amount</th>\n",
       "      <th>Total_EMI_per_month</th>\n",
       "      <th>Amount_invested_monthly</th>\n",
       "      <th>Payment_Behaviour</th>\n",
       "      <th>Monthly_Balance</th>\n",
       "      <th>Credit_Score</th>\n",
       "    </tr>\n",
       "  </thead>\n",
       "  <tbody>\n",
       "    <tr>\n",
       "      <th>0</th>\n",
       "      <td>0x1602</td>\n",
       "      <td>CUS_0xd40</td>\n",
       "      <td>January</td>\n",
       "      <td>Aaron Maashoh</td>\n",
       "      <td>23</td>\n",
       "      <td>821-00-0265</td>\n",
       "      <td>Scientist</td>\n",
       "      <td>19114.12</td>\n",
       "      <td>1824.843333</td>\n",
       "      <td>3</td>\n",
       "      <td>...</td>\n",
       "      <td>_</td>\n",
       "      <td>809.98</td>\n",
       "      <td>26.822620</td>\n",
       "      <td>22 Years and 1 Months</td>\n",
       "      <td>No</td>\n",
       "      <td>49.574949</td>\n",
       "      <td>80.41529543900253</td>\n",
       "      <td>High_spent_Small_value_payments</td>\n",
       "      <td>312.49408867943663</td>\n",
       "      <td>Good</td>\n",
       "    </tr>\n",
       "    <tr>\n",
       "      <th>1</th>\n",
       "      <td>0x1603</td>\n",
       "      <td>CUS_0xd40</td>\n",
       "      <td>February</td>\n",
       "      <td>Aaron Maashoh</td>\n",
       "      <td>23</td>\n",
       "      <td>821-00-0265</td>\n",
       "      <td>Scientist</td>\n",
       "      <td>19114.12</td>\n",
       "      <td>NaN</td>\n",
       "      <td>3</td>\n",
       "      <td>...</td>\n",
       "      <td>Good</td>\n",
       "      <td>809.98</td>\n",
       "      <td>31.944960</td>\n",
       "      <td>NaN</td>\n",
       "      <td>No</td>\n",
       "      <td>49.574949</td>\n",
       "      <td>118.28022162236736</td>\n",
       "      <td>Low_spent_Large_value_payments</td>\n",
       "      <td>284.62916249607184</td>\n",
       "      <td>Good</td>\n",
       "    </tr>\n",
       "    <tr>\n",
       "      <th>2</th>\n",
       "      <td>0x1604</td>\n",
       "      <td>CUS_0xd40</td>\n",
       "      <td>March</td>\n",
       "      <td>Aaron Maashoh</td>\n",
       "      <td>-500</td>\n",
       "      <td>821-00-0265</td>\n",
       "      <td>Scientist</td>\n",
       "      <td>19114.12</td>\n",
       "      <td>NaN</td>\n",
       "      <td>3</td>\n",
       "      <td>...</td>\n",
       "      <td>Good</td>\n",
       "      <td>809.98</td>\n",
       "      <td>28.609352</td>\n",
       "      <td>22 Years and 3 Months</td>\n",
       "      <td>No</td>\n",
       "      <td>49.574949</td>\n",
       "      <td>81.699521264648</td>\n",
       "      <td>Low_spent_Medium_value_payments</td>\n",
       "      <td>331.2098628537912</td>\n",
       "      <td>Good</td>\n",
       "    </tr>\n",
       "    <tr>\n",
       "      <th>3</th>\n",
       "      <td>0x1605</td>\n",
       "      <td>CUS_0xd40</td>\n",
       "      <td>April</td>\n",
       "      <td>Aaron Maashoh</td>\n",
       "      <td>23</td>\n",
       "      <td>821-00-0265</td>\n",
       "      <td>Scientist</td>\n",
       "      <td>19114.12</td>\n",
       "      <td>NaN</td>\n",
       "      <td>3</td>\n",
       "      <td>...</td>\n",
       "      <td>Good</td>\n",
       "      <td>809.98</td>\n",
       "      <td>31.377862</td>\n",
       "      <td>22 Years and 4 Months</td>\n",
       "      <td>No</td>\n",
       "      <td>49.574949</td>\n",
       "      <td>199.4580743910713</td>\n",
       "      <td>Low_spent_Small_value_payments</td>\n",
       "      <td>223.45130972736786</td>\n",
       "      <td>Good</td>\n",
       "    </tr>\n",
       "    <tr>\n",
       "      <th>4</th>\n",
       "      <td>0x1606</td>\n",
       "      <td>CUS_0xd40</td>\n",
       "      <td>May</td>\n",
       "      <td>Aaron Maashoh</td>\n",
       "      <td>23</td>\n",
       "      <td>821-00-0265</td>\n",
       "      <td>Scientist</td>\n",
       "      <td>19114.12</td>\n",
       "      <td>1824.843333</td>\n",
       "      <td>3</td>\n",
       "      <td>...</td>\n",
       "      <td>Good</td>\n",
       "      <td>809.98</td>\n",
       "      <td>24.797347</td>\n",
       "      <td>22 Years and 5 Months</td>\n",
       "      <td>No</td>\n",
       "      <td>49.574949</td>\n",
       "      <td>41.420153086217326</td>\n",
       "      <td>High_spent_Medium_value_payments</td>\n",
       "      <td>341.48923103222177</td>\n",
       "      <td>Good</td>\n",
       "    </tr>\n",
       "  </tbody>\n",
       "</table>\n",
       "<p>5 rows × 28 columns</p>\n",
       "</div>"
      ],
      "text/plain": [
       "       ID Customer_ID     Month           Name   Age          SSN Occupation  \\\n",
       "0  0x1602   CUS_0xd40   January  Aaron Maashoh    23  821-00-0265  Scientist   \n",
       "1  0x1603   CUS_0xd40  February  Aaron Maashoh    23  821-00-0265  Scientist   \n",
       "2  0x1604   CUS_0xd40     March  Aaron Maashoh  -500  821-00-0265  Scientist   \n",
       "3  0x1605   CUS_0xd40     April  Aaron Maashoh    23  821-00-0265  Scientist   \n",
       "4  0x1606   CUS_0xd40       May  Aaron Maashoh    23  821-00-0265  Scientist   \n",
       "\n",
       "  Annual_Income  Monthly_Inhand_Salary  Num_Bank_Accounts  ...  Credit_Mix  \\\n",
       "0      19114.12            1824.843333                  3  ...           _   \n",
       "1      19114.12                    NaN                  3  ...        Good   \n",
       "2      19114.12                    NaN                  3  ...        Good   \n",
       "3      19114.12                    NaN                  3  ...        Good   \n",
       "4      19114.12            1824.843333                  3  ...        Good   \n",
       "\n",
       "   Outstanding_Debt Credit_Utilization_Ratio     Credit_History_Age  \\\n",
       "0            809.98                26.822620  22 Years and 1 Months   \n",
       "1            809.98                31.944960                    NaN   \n",
       "2            809.98                28.609352  22 Years and 3 Months   \n",
       "3            809.98                31.377862  22 Years and 4 Months   \n",
       "4            809.98                24.797347  22 Years and 5 Months   \n",
       "\n",
       "   Payment_of_Min_Amount Total_EMI_per_month Amount_invested_monthly  \\\n",
       "0                     No           49.574949       80.41529543900253   \n",
       "1                     No           49.574949      118.28022162236736   \n",
       "2                     No           49.574949         81.699521264648   \n",
       "3                     No           49.574949       199.4580743910713   \n",
       "4                     No           49.574949      41.420153086217326   \n",
       "\n",
       "                  Payment_Behaviour     Monthly_Balance Credit_Score  \n",
       "0   High_spent_Small_value_payments  312.49408867943663         Good  \n",
       "1    Low_spent_Large_value_payments  284.62916249607184         Good  \n",
       "2   Low_spent_Medium_value_payments   331.2098628537912         Good  \n",
       "3    Low_spent_Small_value_payments  223.45130972736786         Good  \n",
       "4  High_spent_Medium_value_payments  341.48923103222177         Good  \n",
       "\n",
       "[5 rows x 28 columns]"
      ]
     },
     "execution_count": 2,
     "metadata": {},
     "output_type": "execute_result"
    }
   ],
   "source": [
    "df = pd.read_csv('train.csv')\n",
    "df.head()"
   ]
  },
  {
   "cell_type": "code",
   "execution_count": 3,
   "metadata": {},
   "outputs": [
    {
     "name": "stdout",
     "output_type": "stream",
     "text": [
      "<class 'pandas.core.frame.DataFrame'>\n",
      "RangeIndex: 100000 entries, 0 to 99999\n",
      "Data columns (total 28 columns):\n",
      " #   Column                    Non-Null Count   Dtype  \n",
      "---  ------                    --------------   -----  \n",
      " 0   ID                        100000 non-null  object \n",
      " 1   Customer_ID               100000 non-null  object \n",
      " 2   Month                     100000 non-null  object \n",
      " 3   Name                      90015 non-null   object \n",
      " 4   Age                       100000 non-null  object \n",
      " 5   SSN                       100000 non-null  object \n",
      " 6   Occupation                100000 non-null  object \n",
      " 7   Annual_Income             100000 non-null  object \n",
      " 8   Monthly_Inhand_Salary     84998 non-null   float64\n",
      " 9   Num_Bank_Accounts         100000 non-null  int64  \n",
      " 10  Num_Credit_Card           100000 non-null  int64  \n",
      " 11  Interest_Rate             100000 non-null  int64  \n",
      " 12  Num_of_Loan               100000 non-null  object \n",
      " 13  Type_of_Loan              88592 non-null   object \n",
      " 14  Delay_from_due_date       100000 non-null  int64  \n",
      " 15  Num_of_Delayed_Payment    92998 non-null   object \n",
      " 16  Changed_Credit_Limit      100000 non-null  object \n",
      " 17  Num_Credit_Inquiries      98035 non-null   float64\n",
      " 18  Credit_Mix                100000 non-null  object \n",
      " 19  Outstanding_Debt          100000 non-null  object \n",
      " 20  Credit_Utilization_Ratio  100000 non-null  float64\n",
      " 21  Credit_History_Age        90970 non-null   object \n",
      " 22  Payment_of_Min_Amount     100000 non-null  object \n",
      " 23  Total_EMI_per_month       100000 non-null  float64\n",
      " 24  Amount_invested_monthly   95521 non-null   object \n",
      " 25  Payment_Behaviour         100000 non-null  object \n",
      " 26  Monthly_Balance           98800 non-null   object \n",
      " 27  Credit_Score              100000 non-null  object \n",
      "dtypes: float64(4), int64(4), object(20)\n",
      "memory usage: 21.4+ MB\n"
     ]
    }
   ],
   "source": [
    "df.info()"
   ]
  },
  {
   "cell_type": "markdown",
   "metadata": {},
   "source": [
    "Remover colunas que não serão usadas, não são importantes para o algoritmo"
   ]
  },
  {
   "cell_type": "code",
   "execution_count": 4,
   "metadata": {},
   "outputs": [
    {
     "name": "stdout",
     "output_type": "stream",
     "text": [
      "<class 'pandas.core.frame.DataFrame'>\n",
      "RangeIndex: 100000 entries, 0 to 99999\n",
      "Data columns (total 22 columns):\n",
      " #   Column                    Non-Null Count   Dtype  \n",
      "---  ------                    --------------   -----  \n",
      " 0   Age                       100000 non-null  object \n",
      " 1   Occupation                100000 non-null  object \n",
      " 2   Annual_Income             100000 non-null  object \n",
      " 3   Monthly_Inhand_Salary     84998 non-null   float64\n",
      " 4   Num_Credit_Card           100000 non-null  int64  \n",
      " 5   Interest_Rate             100000 non-null  int64  \n",
      " 6   Num_of_Loan               100000 non-null  object \n",
      " 7   Type_of_Loan              88592 non-null   object \n",
      " 8   Delay_from_due_date       100000 non-null  int64  \n",
      " 9   Num_of_Delayed_Payment    92998 non-null   object \n",
      " 10  Changed_Credit_Limit      100000 non-null  object \n",
      " 11  Num_Credit_Inquiries      98035 non-null   float64\n",
      " 12  Credit_Mix                100000 non-null  object \n",
      " 13  Outstanding_Debt          100000 non-null  object \n",
      " 14  Credit_Utilization_Ratio  100000 non-null  float64\n",
      " 15  Credit_History_Age        90970 non-null   object \n",
      " 16  Payment_of_Min_Amount     100000 non-null  object \n",
      " 17  Total_EMI_per_month       100000 non-null  float64\n",
      " 18  Amount_invested_monthly   95521 non-null   object \n",
      " 19  Payment_Behaviour         100000 non-null  object \n",
      " 20  Monthly_Balance           98800 non-null   object \n",
      " 21  Credit_Score              100000 non-null  object \n",
      "dtypes: float64(4), int64(3), object(15)\n",
      "memory usage: 16.8+ MB\n"
     ]
    }
   ],
   "source": [
    "df.drop(columns=['ID', 'Customer_ID', 'Month', 'Name', 'SSN', 'Num_Bank_Accounts'], axis=1, inplace=True)\n",
    "df.info()"
   ]
  },
  {
   "cell_type": "markdown",
   "metadata": {},
   "source": [
    "Transformar a variável Age para quantitativa"
   ]
  },
  {
   "cell_type": "code",
   "execution_count": 5,
   "metadata": {},
   "outputs": [],
   "source": [
    "df['Age'] = pd.to_numeric(df['Age'], errors='coerce')\n",
    "df['Age'] = df['Age'].astype('Int64')"
   ]
  },
  {
   "cell_type": "markdown",
   "metadata": {},
   "source": [
    "Estatística das variáveis quantitativas"
   ]
  },
  {
   "cell_type": "code",
   "execution_count": 6,
   "metadata": {},
   "outputs": [
    {
     "data": {
      "text/html": [
       "<div>\n",
       "<style scoped>\n",
       "    .dataframe tbody tr th:only-of-type {\n",
       "        vertical-align: middle;\n",
       "    }\n",
       "\n",
       "    .dataframe tbody tr th {\n",
       "        vertical-align: top;\n",
       "    }\n",
       "\n",
       "    .dataframe thead th {\n",
       "        text-align: right;\n",
       "    }\n",
       "</style>\n",
       "<table border=\"1\" class=\"dataframe\">\n",
       "  <thead>\n",
       "    <tr style=\"text-align: right;\">\n",
       "      <th></th>\n",
       "      <th>Age</th>\n",
       "      <th>Monthly_Inhand_Salary</th>\n",
       "      <th>Num_Credit_Card</th>\n",
       "      <th>Interest_Rate</th>\n",
       "      <th>Delay_from_due_date</th>\n",
       "      <th>Num_Credit_Inquiries</th>\n",
       "      <th>Credit_Utilization_Ratio</th>\n",
       "      <th>Total_EMI_per_month</th>\n",
       "    </tr>\n",
       "  </thead>\n",
       "  <tbody>\n",
       "    <tr>\n",
       "      <th>count</th>\n",
       "      <td>95061.0</td>\n",
       "      <td>84998.000000</td>\n",
       "      <td>100000.00000</td>\n",
       "      <td>100000.000000</td>\n",
       "      <td>100000.000000</td>\n",
       "      <td>98035.000000</td>\n",
       "      <td>100000.000000</td>\n",
       "      <td>100000.000000</td>\n",
       "    </tr>\n",
       "    <tr>\n",
       "      <th>mean</th>\n",
       "      <td>110.934505</td>\n",
       "      <td>4194.170850</td>\n",
       "      <td>22.47443</td>\n",
       "      <td>72.466040</td>\n",
       "      <td>21.068780</td>\n",
       "      <td>27.754251</td>\n",
       "      <td>32.285173</td>\n",
       "      <td>1403.118217</td>\n",
       "    </tr>\n",
       "    <tr>\n",
       "      <th>std</th>\n",
       "      <td>689.407864</td>\n",
       "      <td>3183.686167</td>\n",
       "      <td>129.05741</td>\n",
       "      <td>466.422621</td>\n",
       "      <td>14.860104</td>\n",
       "      <td>193.177339</td>\n",
       "      <td>5.116875</td>\n",
       "      <td>8306.041270</td>\n",
       "    </tr>\n",
       "    <tr>\n",
       "      <th>min</th>\n",
       "      <td>-500.0</td>\n",
       "      <td>303.645417</td>\n",
       "      <td>0.00000</td>\n",
       "      <td>1.000000</td>\n",
       "      <td>-5.000000</td>\n",
       "      <td>0.000000</td>\n",
       "      <td>20.000000</td>\n",
       "      <td>0.000000</td>\n",
       "    </tr>\n",
       "    <tr>\n",
       "      <th>25%</th>\n",
       "      <td>24.0</td>\n",
       "      <td>1625.568229</td>\n",
       "      <td>4.00000</td>\n",
       "      <td>8.000000</td>\n",
       "      <td>10.000000</td>\n",
       "      <td>3.000000</td>\n",
       "      <td>28.052567</td>\n",
       "      <td>30.306660</td>\n",
       "    </tr>\n",
       "    <tr>\n",
       "      <th>50%</th>\n",
       "      <td>33.0</td>\n",
       "      <td>3093.745000</td>\n",
       "      <td>5.00000</td>\n",
       "      <td>13.000000</td>\n",
       "      <td>18.000000</td>\n",
       "      <td>6.000000</td>\n",
       "      <td>32.305784</td>\n",
       "      <td>69.249473</td>\n",
       "    </tr>\n",
       "    <tr>\n",
       "      <th>75%</th>\n",
       "      <td>42.0</td>\n",
       "      <td>5957.448333</td>\n",
       "      <td>7.00000</td>\n",
       "      <td>20.000000</td>\n",
       "      <td>28.000000</td>\n",
       "      <td>9.000000</td>\n",
       "      <td>36.496663</td>\n",
       "      <td>161.224249</td>\n",
       "    </tr>\n",
       "    <tr>\n",
       "      <th>max</th>\n",
       "      <td>8698.0</td>\n",
       "      <td>15204.633333</td>\n",
       "      <td>1499.00000</td>\n",
       "      <td>5797.000000</td>\n",
       "      <td>67.000000</td>\n",
       "      <td>2597.000000</td>\n",
       "      <td>50.000000</td>\n",
       "      <td>82331.000000</td>\n",
       "    </tr>\n",
       "  </tbody>\n",
       "</table>\n",
       "</div>"
      ],
      "text/plain": [
       "              Age  Monthly_Inhand_Salary  Num_Credit_Card  Interest_Rate  \\\n",
       "count     95061.0           84998.000000     100000.00000  100000.000000   \n",
       "mean   110.934505            4194.170850         22.47443      72.466040   \n",
       "std    689.407864            3183.686167        129.05741     466.422621   \n",
       "min        -500.0             303.645417          0.00000       1.000000   \n",
       "25%          24.0            1625.568229          4.00000       8.000000   \n",
       "50%          33.0            3093.745000          5.00000      13.000000   \n",
       "75%          42.0            5957.448333          7.00000      20.000000   \n",
       "max        8698.0           15204.633333       1499.00000    5797.000000   \n",
       "\n",
       "       Delay_from_due_date  Num_Credit_Inquiries  Credit_Utilization_Ratio  \\\n",
       "count        100000.000000          98035.000000             100000.000000   \n",
       "mean             21.068780             27.754251                 32.285173   \n",
       "std              14.860104            193.177339                  5.116875   \n",
       "min              -5.000000              0.000000                 20.000000   \n",
       "25%              10.000000              3.000000                 28.052567   \n",
       "50%              18.000000              6.000000                 32.305784   \n",
       "75%              28.000000              9.000000                 36.496663   \n",
       "max              67.000000           2597.000000                 50.000000   \n",
       "\n",
       "       Total_EMI_per_month  \n",
       "count        100000.000000  \n",
       "mean           1403.118217  \n",
       "std            8306.041270  \n",
       "min               0.000000  \n",
       "25%              30.306660  \n",
       "50%              69.249473  \n",
       "75%             161.224249  \n",
       "max           82331.000000  "
      ]
     },
     "execution_count": 6,
     "metadata": {},
     "output_type": "execute_result"
    }
   ],
   "source": [
    "df.describe()"
   ]
  },
  {
   "cell_type": "markdown",
   "metadata": {},
   "source": [
    "Algumas observações sobre as estatísticas acima:\n",
    "\n",
    "* Age: temos que investigar, pois os valores mínimo e máximo estão bem estranhos\n",
    "\n",
    "* Num_Bank_Accounts: o valor min e max com certeza está com problema, pois com certeza ninguém tem -1 conta em banco ou quase duas mil contas...\n",
    "\n",
    "* Num_Credit_Card: O valor máximo de 1499 também está errado e precisa ser tratado.\n",
    "\n",
    "* Interest_Rate: Valor máximo precisa ser tratado\n",
    "\n",
    "* Delay_from_due_date: min = -5 precisa ser tratado\n",
    "\n",
    "* Num_Credit_Inquiries: tratar valor máximo"
   ]
  },
  {
   "cell_type": "markdown",
   "metadata": {},
   "source": [
    "Verificando se há valores ausentes"
   ]
  },
  {
   "cell_type": "code",
   "execution_count": 7,
   "metadata": {},
   "outputs": [
    {
     "data": {
      "text/plain": [
       "Age                          4939\n",
       "Occupation                      0\n",
       "Annual_Income                   0\n",
       "Monthly_Inhand_Salary       15002\n",
       "Num_Credit_Card                 0\n",
       "Interest_Rate                   0\n",
       "Num_of_Loan                     0\n",
       "Type_of_Loan                11408\n",
       "Delay_from_due_date             0\n",
       "Num_of_Delayed_Payment       7002\n",
       "Changed_Credit_Limit            0\n",
       "Num_Credit_Inquiries         1965\n",
       "Credit_Mix                      0\n",
       "Outstanding_Debt                0\n",
       "Credit_Utilization_Ratio        0\n",
       "Credit_History_Age           9030\n",
       "Payment_of_Min_Amount           0\n",
       "Total_EMI_per_month             0\n",
       "Amount_invested_monthly      4479\n",
       "Payment_Behaviour               0\n",
       "Monthly_Balance              1200\n",
       "Credit_Score                    0\n",
       "dtype: int64"
      ]
     },
     "execution_count": 7,
     "metadata": {},
     "output_type": "execute_result"
    }
   ],
   "source": [
    "df.isna().sum()"
   ]
  },
  {
   "cell_type": "markdown",
   "metadata": {},
   "source": [
    "Como esses valores são uma pequena proporção, dado o tamanho do conjunto de dados, optei por excluí-los, menos os da coluna 'Monthly_Inhand_Salary', os quais vou preencher com a mediana."
   ]
  },
  {
   "cell_type": "code",
   "execution_count": 8,
   "metadata": {},
   "outputs": [],
   "source": [
    "# Preenchendo os valores ausentes da coluna 'Monthly_Inhand_Salary' com a Mediana\n",
    "df['Monthly_Inhand_Salary'].fillna(df['Monthly_Inhand_Salary'].median(), inplace=True)"
   ]
  },
  {
   "cell_type": "code",
   "execution_count": 9,
   "metadata": {},
   "outputs": [],
   "source": [
    "# Exluir os demais valores ausentes\n",
    "df_sem_nulos = df.dropna()"
   ]
  },
  {
   "cell_type": "code",
   "execution_count": 10,
   "metadata": {},
   "outputs": [
    {
     "data": {
      "text/plain": [
       "Age                         0\n",
       "Occupation                  0\n",
       "Annual_Income               0\n",
       "Monthly_Inhand_Salary       0\n",
       "Num_Credit_Card             0\n",
       "Interest_Rate               0\n",
       "Num_of_Loan                 0\n",
       "Type_of_Loan                0\n",
       "Delay_from_due_date         0\n",
       "Num_of_Delayed_Payment      0\n",
       "Changed_Credit_Limit        0\n",
       "Num_Credit_Inquiries        0\n",
       "Credit_Mix                  0\n",
       "Outstanding_Debt            0\n",
       "Credit_Utilization_Ratio    0\n",
       "Credit_History_Age          0\n",
       "Payment_of_Min_Amount       0\n",
       "Total_EMI_per_month         0\n",
       "Amount_invested_monthly     0\n",
       "Payment_Behaviour           0\n",
       "Monthly_Balance             0\n",
       "Credit_Score                0\n",
       "dtype: int64"
      ]
     },
     "execution_count": 10,
     "metadata": {},
     "output_type": "execute_result"
    }
   ],
   "source": [
    "df_sem_nulos.isna().sum()"
   ]
  },
  {
   "cell_type": "markdown",
   "metadata": {},
   "source": [
    "Verificando os valores da coluna Age"
   ]
  },
  {
   "cell_type": "code",
   "execution_count": 11,
   "metadata": {},
   "outputs": [
    {
     "name": "stdout",
     "output_type": "stream",
     "text": [
      "<IntegerArray>\n",
      "[  23, -500,   28,   34,   54,   55,   33,   30,   24,   44,\n",
      " ...\n",
      " 1953,  278, 1683, 8204, 7409, 5642, 8315, 8425, 2263, 1342]\n",
      "Length: 1210, dtype: Int64\n"
     ]
    }
   ],
   "source": [
    "unique_values_age = df_sem_nulos['Age'].unique()\n",
    "print(unique_values_age)"
   ]
  },
  {
   "cell_type": "code",
   "execution_count": 12,
   "metadata": {},
   "outputs": [
    {
     "name": "stdout",
     "output_type": "stream",
     "text": [
      "Quantidade de valores absurdos na coluna \"Age\": 6051\n"
     ]
    },
    {
     "name": "stderr",
     "output_type": "stream",
     "text": [
      "C:\\Users\\marce\\AppData\\Local\\Temp\\ipykernel_16608\\2182923767.py:6: UserWarning: Boolean Series key will be reindexed to match DataFrame index.\n",
      "  valores_absurdos = df_sem_nulos[(df['Age'] < idade_minima) | (df_sem_nulos['Age'] > idade_maxima)]\n"
     ]
    }
   ],
   "source": [
    "# Definir limites aceitáveis para a idade\n",
    "idade_minima = 18\n",
    "idade_maxima = 100\n",
    "\n",
    "# Filtrar os valores fora do intervalo aceitável\n",
    "valores_absurdos = df_sem_nulos[(df['Age'] < idade_minima) | (df_sem_nulos['Age'] > idade_maxima)]\n",
    "\n",
    "# Contar quantos valores estão fora do intervalo aceitável\n",
    "quantidade_valores_absurdos = valores_absurdos.shape[0]\n",
    "\n",
    "print(f'Quantidade de valores absurdos na coluna \"Age\": {quantidade_valores_absurdos}')"
   ]
  },
  {
   "cell_type": "code",
   "execution_count": 13,
   "metadata": {},
   "outputs": [],
   "source": [
    "# Vamos remover esses valores\n",
    "df_clean = df_sem_nulos.drop(valores_absurdos.index)"
   ]
  },
  {
   "cell_type": "code",
   "execution_count": 14,
   "metadata": {},
   "outputs": [
    {
     "name": "stdout",
     "output_type": "stream",
     "text": [
      "[-5 -4 -3 -2 -1  0  1  2  3  4  5  6  7  8  9 10 11 12 13 14 15 16 17 18\n",
      " 19 20 21 22 23 24 25 26 27 28 29 30 31 32 33 34 35 36 37 38 39 40 41 42\n",
      " 43 44 45 46 47 48 49 50 51 52 53 54 55 56 57 58 59 60 61 62 63 64 65 66\n",
      " 67]\n"
     ]
    }
   ],
   "source": [
    "unique_values_delay = df_sem_nulos['Delay_from_due_date'].sort_values(ascending=True).unique()\n",
    "print(unique_values_delay)"
   ]
  },
  {
   "cell_type": "code",
   "execution_count": 15,
   "metadata": {},
   "outputs": [
    {
     "name": "stdout",
     "output_type": "stream",
     "text": [
      "336\n"
     ]
    },
    {
     "name": "stderr",
     "output_type": "stream",
     "text": [
      "C:\\Users\\marce\\AppData\\Local\\Temp\\ipykernel_16608\\3201568352.py:4: UserWarning: Boolean Series key will be reindexed to match DataFrame index.\n",
      "  valores_fora = df_clean[(df['Delay_from_due_date'] < delay_min) | (df_clean['Delay_from_due_date'] > delay_max)]\n"
     ]
    }
   ],
   "source": [
    "delay_min = 0\n",
    "delay_max = 67\n",
    "\n",
    "valores_fora = df_clean[(df['Delay_from_due_date'] < delay_min) | (df_clean['Delay_from_due_date'] > delay_max)]\n",
    "\n",
    "quantidade_valores_fora = valores_fora.shape[0]\n",
    "\n",
    "print(quantidade_valores_fora)"
   ]
  },
  {
   "cell_type": "code",
   "execution_count": 16,
   "metadata": {},
   "outputs": [],
   "source": [
    "df_clean = df_clean.drop(valores_fora.index)"
   ]
  },
  {
   "cell_type": "code",
   "execution_count": 17,
   "metadata": {},
   "outputs": [
    {
     "data": {
      "text/plain": [
       "0           7\n",
       "3           4\n",
       "5           4\n",
       "6        <NA>\n",
       "9           1\n",
       "         ... \n",
       "99994       6\n",
       "99995       7\n",
       "99996       7\n",
       "99997       6\n",
       "99999       6\n",
       "Name: Num_of_Delayed_Payment, Length: 59513, dtype: Int64"
      ]
     },
     "execution_count": 17,
     "metadata": {},
     "output_type": "execute_result"
    }
   ],
   "source": [
    "# transformar coluna 'Num_of_Delayed_Payment' para quantitativa\n",
    "df_clean['Num_of_Delayed_Payment'] = pd.to_numeric(df['Num_of_Delayed_Payment'], errors='coerce')\n",
    "df_clean['Num_of_Delayed_Payment'].astype('Int64')"
   ]
  },
  {
   "cell_type": "code",
   "execution_count": 18,
   "metadata": {},
   "outputs": [
    {
     "data": {
      "text/plain": [
       "1748"
      ]
     },
     "execution_count": 18,
     "metadata": {},
     "output_type": "execute_result"
    }
   ],
   "source": [
    "df_clean['Num_of_Delayed_Payment'].isna().sum()"
   ]
  },
  {
   "cell_type": "code",
   "execution_count": 19,
   "metadata": {},
   "outputs": [
    {
     "data": {
      "text/plain": [
       "Age                         0\n",
       "Occupation                  0\n",
       "Annual_Income               0\n",
       "Monthly_Inhand_Salary       0\n",
       "Num_Credit_Card             0\n",
       "Interest_Rate               0\n",
       "Num_of_Loan                 0\n",
       "Type_of_Loan                0\n",
       "Delay_from_due_date         0\n",
       "Num_of_Delayed_Payment      0\n",
       "Changed_Credit_Limit        0\n",
       "Num_Credit_Inquiries        0\n",
       "Credit_Mix                  0\n",
       "Outstanding_Debt            0\n",
       "Credit_Utilization_Ratio    0\n",
       "Credit_History_Age          0\n",
       "Payment_of_Min_Amount       0\n",
       "Total_EMI_per_month         0\n",
       "Amount_invested_monthly     0\n",
       "Payment_Behaviour           0\n",
       "Monthly_Balance             0\n",
       "Credit_Score                0\n",
       "dtype: int64"
      ]
     },
     "execution_count": 19,
     "metadata": {},
     "output_type": "execute_result"
    }
   ],
   "source": [
    "df_clean.dropna(subset='Num_of_Delayed_Payment', inplace=True)\n",
    "df_clean.isna().sum()"
   ]
  },
  {
   "cell_type": "code",
   "execution_count": 20,
   "metadata": {},
   "outputs": [
    {
     "name": "stdout",
     "output_type": "stream",
     "text": [
      "[4.000e+00 2.000e+00 3.000e+00 5.000e+00 9.000e+00 8.000e+00 7.000e+00\n",
      " 6.000e+00 0.000e+00 1.000e+00 1.000e+01 1.050e+03 1.100e+01 1.044e+03\n",
      " 1.700e+01 1.936e+03 1.300e+01 5.680e+02 1.618e+03 5.250e+02 1.200e+01\n",
      " 1.251e+03 1.400e+01 1.600e+01 1.500e+01 2.850e+02 1.241e+03 1.839e+03\n",
      " 1.953e+03 1.265e+03 1.085e+03 1.194e+03 1.197e+03 9.960e+02 4.180e+02\n",
      " 8.290e+02 1.760e+03 2.539e+03 5.460e+02 3.300e+01 6.020e+02 1.122e+03\n",
      " 2.134e+03 1.151e+03 9.550e+02 7.940e+02 9.770e+02 2.158e+03 3.040e+02\n",
      " 8.600e+01 1.347e+03 2.161e+03 1.529e+03 1.615e+03 2.187e+03 2.060e+02\n",
      " 5.700e+01 1.970e+02 4.580e+02 1.114e+03 3.210e+02 2.572e+03 1.479e+03\n",
      " 2.050e+02 1.890e+03 2.081e+03 9.460e+02 1.393e+03 1.244e+03 1.015e+03\n",
      " 5.740e+02 3.640e+02 1.498e+03 1.562e+03 2.030e+02 2.297e+03 3.400e+01\n",
      " 2.128e+03 2.207e+03 8.240e+02 5.360e+02 2.056e+03 5.280e+02 1.247e+03\n",
      " 3.990e+02 3.930e+02 2.210e+02 2.328e+03 2.548e+03 2.330e+02 2.580e+03\n",
      " 2.245e+03 1.921e+03 1.173e+03 1.010e+02 2.326e+03 1.278e+03 1.999e+03\n",
      " 2.308e+03 4.920e+02 1.029e+03 1.390e+03 1.710e+02 1.481e+03 1.561e+03\n",
      " 2.568e+03 1.776e+03 2.461e+03 3.360e+02 1.302e+03 2.357e+03 2.203e+03\n",
      " 1.128e+03 3.280e+02 9.090e+02 1.319e+03 1.771e+03 6.050e+02 6.540e+02\n",
      " 2.334e+03 2.211e+03 2.564e+03 1.630e+02 2.542e+03 1.419e+03 1.506e+03\n",
      " 6.930e+02 1.073e+03 3.160e+02 1.132e+03 1.166e+03 4.640e+02 1.804e+03\n",
      " 1.634e+03 8.310e+02 1.068e+03 3.630e+02 1.866e+03 1.599e+03 3.710e+02\n",
      " 9.190e+02 2.370e+03 1.889e+03 2.150e+03 5.400e+02 1.216e+03 1.990e+02\n",
      " 8.070e+02 1.370e+03 8.810e+02 2.144e+03 2.199e+03 5.940e+02 7.260e+02\n",
      " 7.250e+02 1.908e+03 1.232e+03 6.200e+02 4.730e+02 1.744e+03 2.402e+03\n",
      " 1.900e+02 5.410e+02 7.570e+02 2.950e+02 1.955e+03 9.920e+02 4.240e+02\n",
      " 1.880e+03 1.600e+02 1.517e+03 1.500e+03 1.638e+03 1.607e+03 1.025e+03\n",
      " 1.123e+03 1.028e+03 9.750e+02 3.600e+02 9.870e+02 1.330e+02 2.253e+03\n",
      " 6.600e+01 2.058e+03 2.022e+03 7.090e+02 1.768e+03 7.100e+01 2.190e+03\n",
      " 1.150e+02 1.436e+03 1.497e+03 2.594e+03 7.830e+02 1.475e+03 8.760e+02\n",
      " 2.219e+03 2.434e+03 1.726e+03 1.695e+03 1.639e+03 1.024e+03 1.023e+03\n",
      " 1.622e+03 1.803e+03 9.670e+02 2.450e+02 2.313e+03 1.512e+03 2.256e+03\n",
      " 5.240e+02 5.300e+01 1.291e+03 1.412e+03 1.009e+03 4.430e+02 1.310e+02\n",
      " 2.780e+02 1.375e+03 6.920e+02 1.950e+03 2.720e+02 1.175e+03 1.058e+03\n",
      " 1.465e+03 1.337e+03 1.970e+03 1.758e+03 1.795e+03 1.066e+03 9.910e+02\n",
      " 2.324e+03 1.346e+03 5.810e+02 2.047e+03 1.370e+02 1.352e+03 1.204e+03\n",
      " 2.059e+03 6.280e+02 1.826e+03 8.160e+02 1.469e+03 6.300e+01 1.893e+03\n",
      " 1.500e+02 1.345e+03 3.370e+02 4.550e+02 2.323e+03 2.192e+03 1.433e+03\n",
      " 6.370e+02 1.485e+03 2.410e+02 1.740e+03 9.660e+02 1.530e+02 2.202e+03\n",
      " 1.310e+03 1.238e+03 6.550e+02 1.299e+03 2.588e+03 1.549e+03 5.290e+02\n",
      " 9.170e+02 1.130e+02 7.390e+02 2.890e+02 2.366e+03 2.310e+03 5.210e+02\n",
      " 1.057e+03 9.840e+02 1.037e+03 1.871e+03 2.090e+02 1.931e+03 9.570e+02\n",
      " 7.540e+02 4.770e+02 1.340e+03 7.530e+02 9.280e+02 1.329e+03 7.800e+01\n",
      " 2.444e+03 2.515e+03 1.603e+03 1.992e+03 1.288e+03 1.396e+03 1.833e+03\n",
      " 1.867e+03 1.417e+03 1.690e+02 1.991e+03 2.191e+03 1.253e+03 8.370e+02\n",
      " 1.640e+02 7.110e+02 2.136e+03 7.280e+02 1.160e+02 9.200e+02 5.420e+02\n",
      " 6.300e+02 1.786e+03 1.688e+03 5.990e+02 1.787e+03 1.870e+03 2.027e+03\n",
      " 2.740e+02 1.158e+03 1.221e+03 2.302e+03 1.998e+03 3.090e+02 8.030e+02\n",
      " 5.630e+02 2.276e+03 1.389e+03 6.990e+02 5.300e+02 1.930e+02 1.951e+03\n",
      " 2.397e+03 6.210e+02 8.950e+02 2.446e+03 1.560e+03 1.362e+03 6.750e+02\n",
      " 2.069e+03 1.619e+03 6.260e+02 1.402e+03 1.661e+03 1.825e+03 1.230e+03\n",
      " 6.570e+02 1.008e+03 6.620e+02 1.521e+03 1.584e+03 2.275e+03 4.120e+02\n",
      " 2.494e+03 1.530e+03 8.500e+02 1.740e+02 1.053e+03 1.179e+03 1.535e+03\n",
      " 1.011e+03 1.202e+03 1.442e+03 2.320e+02 5.140e+02 1.201e+03 7.270e+02\n",
      " 3.840e+02 5.620e+02 1.220e+03 1.807e+03 2.078e+03 2.285e+03 1.447e+03\n",
      " 1.762e+03 9.140e+02 4.960e+02 2.670e+02 1.796e+03 2.074e+03 5.660e+02\n",
      " 2.231e+03 1.113e+03 3.500e+02 1.290e+02 1.366e+03 1.805e+03 4.700e+02\n",
      " 1.672e+03 8.670e+02 3.800e+02 5.220e+02 1.311e+03 2.155e+03 1.713e+03\n",
      " 1.693e+03 1.103e+03 1.139e+03 4.620e+02 2.470e+02 1.860e+02 2.107e+03\n",
      " 4.090e+02 8.080e+02 4.500e+02 1.450e+03 2.600e+02 2.423e+03 2.260e+03\n",
      " 3.250e+02 5.200e+01 1.543e+03 4.390e+02 1.980e+02 2.082e+03 8.110e+02\n",
      " 1.464e+03 1.042e+03 4.880e+02 7.700e+02 6.230e+02 6.700e+01 3.330e+02\n",
      " 2.510e+02 2.286e+03 4.570e+02 5.590e+02 1.072e+03 1.581e+03 7.610e+02\n",
      " 4.400e+02 2.457e+03 2.331e+03 2.422e+03 2.680e+02 2.169e+03 2.250e+03\n",
      " 1.727e+03 1.487e+03 2.531e+03 1.339e+03 2.520e+02 1.926e+03 5.130e+02\n",
      " 2.358e+03 1.269e+03 1.632e+03 2.458e+03 1.369e+03 1.816e+03 9.250e+02\n",
      " 2.389e+03 1.198e+03 2.293e+03 2.227e+03 4.680e+02 2.154e+03 7.720e+02\n",
      " 1.598e+03 7.600e+01 2.184e+03 1.582e+03 5.380e+02 1.547e+03 6.420e+02\n",
      " 2.589e+03 2.980e+02 1.456e+03 1.590e+02 8.690e+02 3.270e+02 5.760e+02\n",
      " 4.210e+02 2.017e+03 5.830e+02 1.007e+03 7.100e+02 2.386e+03 2.294e+03\n",
      " 6.150e+02 1.850e+02 8.260e+02 2.292e+03 1.827e+03 7.770e+02 5.860e+02\n",
      " 2.547e+03 1.041e+03 2.317e+03 1.483e+03 1.172e+03 5.850e+02 1.104e+03\n",
      " 2.407e+03 1.399e+03 4.500e+01 1.741e+03 2.182e+03 1.626e+03 1.654e+03\n",
      " 2.254e+03 9.630e+02 2.352e+03 9.790e+02 2.640e+02 1.167e+03 1.282e+03\n",
      " 1.941e+03 1.920e+03 4.260e+02 9.000e+02 2.464e+03 2.363e+03 1.343e+03\n",
      " 1.220e+02 2.185e+03 2.098e+03 1.531e+03 9.470e+02 2.118e+03 2.181e+03\n",
      " 4.190e+02 2.433e+03 1.868e+03 2.760e+02 8.170e+02 8.460e+02 2.453e+03\n",
      " 5.400e+01 7.690e+02 1.502e+03 1.513e+03 4.000e+02 2.322e+03 7.550e+02\n",
      " 1.601e+03 1.344e+03 1.540e+03 2.164e+03 1.772e+03 1.133e+03 1.647e+03\n",
      " 2.537e+03 2.279e+03 1.594e+03 1.263e+03 1.385e+03 2.521e+03 1.829e+03\n",
      " 6.850e+02 1.855e+03 7.900e+02 1.338e+03 1.545e+03 1.573e+03 1.541e+03\n",
      " 1.697e+03 6.110e+02 1.168e+03 8.930e+02 2.351e+03 8.900e+02 1.000e+03\n",
      " 1.641e+03 2.387e+03 1.089e+03 2.445e+03 2.390e+03 2.240e+03 2.091e+03\n",
      " 1.427e+03 2.544e+03 4.480e+02 1.275e+03 1.046e+03 4.840e+02 2.290e+03\n",
      " 2.506e+03 1.086e+03 2.338e+03 8.770e+02 2.087e+03 7.160e+02 6.430e+02\n",
      " 1.460e+03 2.162e+03 1.335e+03 1.226e+03 1.203e+03 2.395e+03 1.640e+03\n",
      " 1.191e+03 2.061e+03 2.262e+03 1.588e+03 1.117e+03 2.241e+03 9.340e+02\n",
      " 1.303e+03 4.930e+02 1.324e+03 6.030e+02 1.234e+03 1.689e+03 4.850e+02\n",
      " 1.155e+03 1.126e+03 1.333e+03 1.572e+03 2.340e+03 3.490e+02 7.960e+02\n",
      " 9.760e+02 1.633e+03 1.314e+03 9.950e+02 2.290e+02 1.577e+03 3.850e+02\n",
      " 6.000e+01 8.710e+02 1.682e+03 1.084e+03 3.150e+02 1.954e+03 1.159e+03\n",
      " 1.656e+03 1.157e+03 1.914e+03 1.192e+03 3.030e+02 7.760e+02 1.836e+03\n",
      " 9.450e+02 1.761e+03 1.097e+03 1.350e+02 1.988e+03 1.657e+03 1.067e+03\n",
      " 2.120e+02 1.843e+03 2.031e+03 1.017e+03 3.620e+02 2.264e+03 1.404e+03\n",
      " 7.320e+02 2.418e+03 1.331e+03 4.300e+01 2.270e+02 1.429e+03 1.145e+03\n",
      " 2.660e+02 7.150e+02 1.690e+03 2.228e+03 2.551e+03 6.970e+02 1.899e+03\n",
      " 1.580e+03 1.680e+03 1.902e+03 2.120e+03 3.570e+02 1.182e+03 1.609e+03\n",
      " 1.788e+03 9.240e+02 8.400e+02 2.590e+02 9.390e+02 1.808e+03 2.374e+03\n",
      " 2.307e+03 1.862e+03 2.178e+03 2.452e+03 9.490e+02 3.180e+02 1.677e+03\n",
      " 1.709e+03 1.605e+03 2.373e+03 2.492e+03 2.106e+03 1.664e+03 1.039e+03\n",
      " 5.150e+02 1.063e+03 2.460e+03 1.147e+03 1.255e+03 8.910e+02 2.124e+03\n",
      " 5.470e+02 7.330e+02 2.405e+03 1.568e+03 1.815e+03 8.060e+02 2.243e+03\n",
      " 6.580e+02 2.356e+03 1.316e+03 1.511e+03 4.080e+02 1.770e+02 2.042e+03\n",
      " 2.570e+02 9.990e+02 3.000e+02 2.165e+03 8.540e+02 1.490e+03 2.560e+02\n",
      " 1.580e+02 1.527e+03 1.782e+03 1.820e+03 6.340e+02 1.355e+03 1.136e+03\n",
      " 2.431e+03 9.290e+02 1.523e+03 1.274e+03 1.286e+03 1.315e+03 6.410e+02\n",
      " 4.870e+02 1.702e+03 4.810e+02 6.400e+01 1.450e+02 2.426e+03 4.740e+02\n",
      " 1.318e+03 2.650e+02 2.518e+03 9.800e+02 2.157e+03 1.873e+03 2.131e+03\n",
      " 2.301e+03 1.262e+03 1.566e+03 7.980e+02 8.560e+02 2.439e+03 1.608e+03\n",
      " 1.520e+02 3.980e+02 1.252e+03 1.548e+03 1.834e+03 7.920e+02 9.020e+02\n",
      " 2.484e+03 5.970e+02 1.468e+03 2.514e+03 7.360e+02 7.190e+02 1.019e+03\n",
      " 6.090e+02 2.085e+03 3.440e+02 2.170e+03 1.938e+03 1.440e+03 1.659e+03\n",
      " 2.376e+03 1.001e+03 8.700e+01 1.297e+03 1.054e+03 2.367e+03 1.895e+03\n",
      " 1.963e+03 2.583e+03 1.459e+03 2.225e+03 7.840e+02 2.362e+03 1.876e+03\n",
      " 1.377e+03 1.920e+02 2.239e+03 2.001e+03 4.690e+02 1.233e+03 1.493e+03\n",
      " 2.505e+03 1.227e+03 7.580e+02 1.388e+03 1.854e+03 6.080e+02 1.187e+03\n",
      " 1.180e+02 1.801e+03 1.888e+03 2.072e+03 1.361e+03]\n"
     ]
    }
   ],
   "source": [
    "unique_values_inquiries = df_clean['Num_Credit_Inquiries'].unique()\n",
    "print(unique_values_inquiries)"
   ]
  },
  {
   "cell_type": "code",
   "execution_count": 21,
   "metadata": {},
   "outputs": [
    {
     "name": "stdout",
     "output_type": "stream",
     "text": [
      "0     4.0\n",
      "3     4.0\n",
      "5     4.0\n",
      "9     2.0\n",
      "10    2.0\n",
      "Name: Num_Credit_Inquiries, dtype: float64\n"
     ]
    }
   ],
   "source": [
    "# Vamos converter esses valores para decimal padrão\n",
    "df_clean['Num_Credit_Inquiries'] = pd.to_numeric(df_clean['Num_Credit_Inquiries'], errors='coerce')\n",
    "print(df_clean['Num_Credit_Inquiries'].head())"
   ]
  },
  {
   "cell_type": "code",
   "execution_count": 22,
   "metadata": {},
   "outputs": [
    {
     "name": "stdout",
     "output_type": "stream",
     "text": [
      "[4.000e+00 2.000e+00 3.000e+00 5.000e+00 9.000e+00 8.000e+00 7.000e+00\n",
      " 6.000e+00 0.000e+00 1.000e+00 1.000e+01 1.050e+03 1.100e+01 1.044e+03\n",
      " 1.700e+01 1.936e+03 1.300e+01 5.680e+02 1.618e+03 5.250e+02 1.200e+01\n",
      " 1.251e+03 1.400e+01 1.600e+01 1.500e+01 2.850e+02 1.241e+03 1.839e+03\n",
      " 1.953e+03 1.265e+03 1.085e+03 1.194e+03 1.197e+03 9.960e+02 4.180e+02\n",
      " 8.290e+02 1.760e+03 2.539e+03 5.460e+02 3.300e+01 6.020e+02 1.122e+03\n",
      " 2.134e+03 1.151e+03 9.550e+02 7.940e+02 9.770e+02 2.158e+03 3.040e+02\n",
      " 8.600e+01 1.347e+03 2.161e+03 1.529e+03 1.615e+03 2.187e+03 2.060e+02\n",
      " 5.700e+01 1.970e+02 4.580e+02 1.114e+03 3.210e+02 2.572e+03 1.479e+03\n",
      " 2.050e+02 1.890e+03 2.081e+03 9.460e+02 1.393e+03 1.244e+03 1.015e+03\n",
      " 5.740e+02 3.640e+02 1.498e+03 1.562e+03 2.030e+02 2.297e+03 3.400e+01\n",
      " 2.128e+03 2.207e+03 8.240e+02 5.360e+02 2.056e+03 5.280e+02 1.247e+03\n",
      " 3.990e+02 3.930e+02 2.210e+02 2.328e+03 2.548e+03 2.330e+02 2.580e+03\n",
      " 2.245e+03 1.921e+03 1.173e+03 1.010e+02 2.326e+03 1.278e+03 1.999e+03\n",
      " 2.308e+03 4.920e+02 1.029e+03 1.390e+03 1.710e+02 1.481e+03 1.561e+03\n",
      " 2.568e+03 1.776e+03 2.461e+03 3.360e+02 1.302e+03 2.357e+03 2.203e+03\n",
      " 1.128e+03 3.280e+02 9.090e+02 1.319e+03 1.771e+03 6.050e+02 6.540e+02\n",
      " 2.334e+03 2.211e+03 2.564e+03 1.630e+02 2.542e+03 1.419e+03 1.506e+03\n",
      " 6.930e+02 1.073e+03 3.160e+02 1.132e+03 1.166e+03 4.640e+02 1.804e+03\n",
      " 1.634e+03 8.310e+02 1.068e+03 3.630e+02 1.866e+03 1.599e+03 3.710e+02\n",
      " 9.190e+02 2.370e+03 1.889e+03 2.150e+03 5.400e+02 1.216e+03 1.990e+02\n",
      " 8.070e+02 1.370e+03 8.810e+02 2.144e+03 2.199e+03 5.940e+02 7.260e+02\n",
      " 7.250e+02 1.908e+03 1.232e+03 6.200e+02 4.730e+02 1.744e+03 2.402e+03\n",
      " 1.900e+02 5.410e+02 7.570e+02 2.950e+02 1.955e+03 9.920e+02 4.240e+02\n",
      " 1.880e+03 1.600e+02 1.517e+03 1.500e+03 1.638e+03 1.607e+03 1.025e+03\n",
      " 1.123e+03 1.028e+03 9.750e+02 3.600e+02 9.870e+02 1.330e+02 2.253e+03\n",
      " 6.600e+01 2.058e+03 2.022e+03 7.090e+02 1.768e+03 7.100e+01 2.190e+03\n",
      " 1.150e+02 1.436e+03 1.497e+03 2.594e+03 7.830e+02 1.475e+03 8.760e+02\n",
      " 2.219e+03 2.434e+03 1.726e+03 1.695e+03 1.639e+03 1.024e+03 1.023e+03\n",
      " 1.622e+03 1.803e+03 9.670e+02 2.450e+02 2.313e+03 1.512e+03 2.256e+03\n",
      " 5.240e+02 5.300e+01 1.291e+03 1.412e+03 1.009e+03 4.430e+02 1.310e+02\n",
      " 2.780e+02 1.375e+03 6.920e+02 1.950e+03 2.720e+02 1.175e+03 1.058e+03\n",
      " 1.465e+03 1.337e+03 1.970e+03 1.758e+03 1.795e+03 1.066e+03 9.910e+02\n",
      " 2.324e+03 1.346e+03 5.810e+02 2.047e+03 1.370e+02 1.352e+03 1.204e+03\n",
      " 2.059e+03 6.280e+02 1.826e+03 8.160e+02 1.469e+03 6.300e+01 1.893e+03\n",
      " 1.500e+02 1.345e+03 3.370e+02 4.550e+02 2.323e+03 2.192e+03 1.433e+03\n",
      " 6.370e+02 1.485e+03 2.410e+02 1.740e+03 9.660e+02 1.530e+02 2.202e+03\n",
      " 1.310e+03 1.238e+03 6.550e+02 1.299e+03 2.588e+03 1.549e+03 5.290e+02\n",
      " 9.170e+02 1.130e+02 7.390e+02 2.890e+02 2.366e+03 2.310e+03 5.210e+02\n",
      " 1.057e+03 9.840e+02 1.037e+03 1.871e+03 2.090e+02 1.931e+03 9.570e+02\n",
      " 7.540e+02 4.770e+02 1.340e+03 7.530e+02 9.280e+02 1.329e+03 7.800e+01\n",
      " 2.444e+03 2.515e+03 1.603e+03 1.992e+03 1.288e+03 1.396e+03 1.833e+03\n",
      " 1.867e+03 1.417e+03 1.690e+02 1.991e+03 2.191e+03 1.253e+03 8.370e+02\n",
      " 1.640e+02 7.110e+02 2.136e+03 7.280e+02 1.160e+02 9.200e+02 5.420e+02\n",
      " 6.300e+02 1.786e+03 1.688e+03 5.990e+02 1.787e+03 1.870e+03 2.027e+03\n",
      " 2.740e+02 1.158e+03 1.221e+03 2.302e+03 1.998e+03 3.090e+02 8.030e+02\n",
      " 5.630e+02 2.276e+03 1.389e+03 6.990e+02 5.300e+02 1.930e+02 1.951e+03\n",
      " 2.397e+03 6.210e+02 8.950e+02 2.446e+03 1.560e+03 1.362e+03 6.750e+02\n",
      " 2.069e+03 1.619e+03 6.260e+02 1.402e+03 1.661e+03 1.825e+03 1.230e+03\n",
      " 6.570e+02 1.008e+03 6.620e+02 1.521e+03 1.584e+03 2.275e+03 4.120e+02\n",
      " 2.494e+03 1.530e+03 8.500e+02 1.740e+02 1.053e+03 1.179e+03 1.535e+03\n",
      " 1.011e+03 1.202e+03 1.442e+03 2.320e+02 5.140e+02 1.201e+03 7.270e+02\n",
      " 3.840e+02 5.620e+02 1.220e+03 1.807e+03 2.078e+03 2.285e+03 1.447e+03\n",
      " 1.762e+03 9.140e+02 4.960e+02 2.670e+02 1.796e+03 2.074e+03 5.660e+02\n",
      " 2.231e+03 1.113e+03 3.500e+02 1.290e+02 1.366e+03 1.805e+03 4.700e+02\n",
      " 1.672e+03 8.670e+02 3.800e+02 5.220e+02 1.311e+03 2.155e+03 1.713e+03\n",
      " 1.693e+03 1.103e+03 1.139e+03 4.620e+02 2.470e+02 1.860e+02 2.107e+03\n",
      " 4.090e+02 8.080e+02 4.500e+02 1.450e+03 2.600e+02 2.423e+03 2.260e+03\n",
      " 3.250e+02 5.200e+01 1.543e+03 4.390e+02 1.980e+02 2.082e+03 8.110e+02\n",
      " 1.464e+03 1.042e+03 4.880e+02 7.700e+02 6.230e+02 6.700e+01 3.330e+02\n",
      " 2.510e+02 2.286e+03 4.570e+02 5.590e+02 1.072e+03 1.581e+03 7.610e+02\n",
      " 4.400e+02 2.457e+03 2.331e+03 2.422e+03 2.680e+02 2.169e+03 2.250e+03\n",
      " 1.727e+03 1.487e+03 2.531e+03 1.339e+03 2.520e+02 1.926e+03 5.130e+02\n",
      " 2.358e+03 1.269e+03 1.632e+03 2.458e+03 1.369e+03 1.816e+03 9.250e+02\n",
      " 2.389e+03 1.198e+03 2.293e+03 2.227e+03 4.680e+02 2.154e+03 7.720e+02\n",
      " 1.598e+03 7.600e+01 2.184e+03 1.582e+03 5.380e+02 1.547e+03 6.420e+02\n",
      " 2.589e+03 2.980e+02 1.456e+03 1.590e+02 8.690e+02 3.270e+02 5.760e+02\n",
      " 4.210e+02 2.017e+03 5.830e+02 1.007e+03 7.100e+02 2.386e+03 2.294e+03\n",
      " 6.150e+02 1.850e+02 8.260e+02 2.292e+03 1.827e+03 7.770e+02 5.860e+02\n",
      " 2.547e+03 1.041e+03 2.317e+03 1.483e+03 1.172e+03 5.850e+02 1.104e+03\n",
      " 2.407e+03 1.399e+03 4.500e+01 1.741e+03 2.182e+03 1.626e+03 1.654e+03\n",
      " 2.254e+03 9.630e+02 2.352e+03 9.790e+02 2.640e+02 1.167e+03 1.282e+03\n",
      " 1.941e+03 1.920e+03 4.260e+02 9.000e+02 2.464e+03 2.363e+03 1.343e+03\n",
      " 1.220e+02 2.185e+03 2.098e+03 1.531e+03 9.470e+02 2.118e+03 2.181e+03\n",
      " 4.190e+02 2.433e+03 1.868e+03 2.760e+02 8.170e+02 8.460e+02 2.453e+03\n",
      " 5.400e+01 7.690e+02 1.502e+03 1.513e+03 4.000e+02 2.322e+03 7.550e+02\n",
      " 1.601e+03 1.344e+03 1.540e+03 2.164e+03 1.772e+03 1.133e+03 1.647e+03\n",
      " 2.537e+03 2.279e+03 1.594e+03 1.263e+03 1.385e+03 2.521e+03 1.829e+03\n",
      " 6.850e+02 1.855e+03 7.900e+02 1.338e+03 1.545e+03 1.573e+03 1.541e+03\n",
      " 1.697e+03 6.110e+02 1.168e+03 8.930e+02 2.351e+03 8.900e+02 1.000e+03\n",
      " 1.641e+03 2.387e+03 1.089e+03 2.445e+03 2.390e+03 2.240e+03 2.091e+03\n",
      " 1.427e+03 2.544e+03 4.480e+02 1.275e+03 1.046e+03 4.840e+02 2.290e+03\n",
      " 2.506e+03 1.086e+03 2.338e+03 8.770e+02 2.087e+03 7.160e+02 6.430e+02\n",
      " 1.460e+03 2.162e+03 1.335e+03 1.226e+03 1.203e+03 2.395e+03 1.640e+03\n",
      " 1.191e+03 2.061e+03 2.262e+03 1.588e+03 1.117e+03 2.241e+03 9.340e+02\n",
      " 1.303e+03 4.930e+02 1.324e+03 6.030e+02 1.234e+03 1.689e+03 4.850e+02\n",
      " 1.155e+03 1.126e+03 1.333e+03 1.572e+03 2.340e+03 3.490e+02 7.960e+02\n",
      " 9.760e+02 1.633e+03 1.314e+03 9.950e+02 2.290e+02 1.577e+03 3.850e+02\n",
      " 6.000e+01 8.710e+02 1.682e+03 1.084e+03 3.150e+02 1.954e+03 1.159e+03\n",
      " 1.656e+03 1.157e+03 1.914e+03 1.192e+03 3.030e+02 7.760e+02 1.836e+03\n",
      " 9.450e+02 1.761e+03 1.097e+03 1.350e+02 1.988e+03 1.657e+03 1.067e+03\n",
      " 2.120e+02 1.843e+03 2.031e+03 1.017e+03 3.620e+02 2.264e+03 1.404e+03\n",
      " 7.320e+02 2.418e+03 1.331e+03 4.300e+01 2.270e+02 1.429e+03 1.145e+03\n",
      " 2.660e+02 7.150e+02 1.690e+03 2.228e+03 2.551e+03 6.970e+02 1.899e+03\n",
      " 1.580e+03 1.680e+03 1.902e+03 2.120e+03 3.570e+02 1.182e+03 1.609e+03\n",
      " 1.788e+03 9.240e+02 8.400e+02 2.590e+02 9.390e+02 1.808e+03 2.374e+03\n",
      " 2.307e+03 1.862e+03 2.178e+03 2.452e+03 9.490e+02 3.180e+02 1.677e+03\n",
      " 1.709e+03 1.605e+03 2.373e+03 2.492e+03 2.106e+03 1.664e+03 1.039e+03\n",
      " 5.150e+02 1.063e+03 2.460e+03 1.147e+03 1.255e+03 8.910e+02 2.124e+03\n",
      " 5.470e+02 7.330e+02 2.405e+03 1.568e+03 1.815e+03 8.060e+02 2.243e+03\n",
      " 6.580e+02 2.356e+03 1.316e+03 1.511e+03 4.080e+02 1.770e+02 2.042e+03\n",
      " 2.570e+02 9.990e+02 3.000e+02 2.165e+03 8.540e+02 1.490e+03 2.560e+02\n",
      " 1.580e+02 1.527e+03 1.782e+03 1.820e+03 6.340e+02 1.355e+03 1.136e+03\n",
      " 2.431e+03 9.290e+02 1.523e+03 1.274e+03 1.286e+03 1.315e+03 6.410e+02\n",
      " 4.870e+02 1.702e+03 4.810e+02 6.400e+01 1.450e+02 2.426e+03 4.740e+02\n",
      " 1.318e+03 2.650e+02 2.518e+03 9.800e+02 2.157e+03 1.873e+03 2.131e+03\n",
      " 2.301e+03 1.262e+03 1.566e+03 7.980e+02 8.560e+02 2.439e+03 1.608e+03\n",
      " 1.520e+02 3.980e+02 1.252e+03 1.548e+03 1.834e+03 7.920e+02 9.020e+02\n",
      " 2.484e+03 5.970e+02 1.468e+03 2.514e+03 7.360e+02 7.190e+02 1.019e+03\n",
      " 6.090e+02 2.085e+03 3.440e+02 2.170e+03 1.938e+03 1.440e+03 1.659e+03\n",
      " 2.376e+03 1.001e+03 8.700e+01 1.297e+03 1.054e+03 2.367e+03 1.895e+03\n",
      " 1.963e+03 2.583e+03 1.459e+03 2.225e+03 7.840e+02 2.362e+03 1.876e+03\n",
      " 1.377e+03 1.920e+02 2.239e+03 2.001e+03 4.690e+02 1.233e+03 1.493e+03\n",
      " 2.505e+03 1.227e+03 7.580e+02 1.388e+03 1.854e+03 6.080e+02 1.187e+03\n",
      " 1.180e+02 1.801e+03 1.888e+03 2.072e+03 1.361e+03]\n"
     ]
    }
   ],
   "source": [
    "unique_values_utilization = df_clean['Num_Credit_Inquiries'].unique()\n",
    "print(unique_values_utilization)"
   ]
  },
  {
   "cell_type": "code",
   "execution_count": 23,
   "metadata": {},
   "outputs": [
    {
     "name": "stdout",
     "output_type": "stream",
     "text": [
      "0     26.822620\n",
      "3     31.377862\n",
      "5     27.262259\n",
      "9     38.550848\n",
      "10    33.224951\n",
      "Name: Credit_Utilization_Ratio, dtype: float64\n"
     ]
    }
   ],
   "source": [
    "df_clean['Credit_Utilization_Ratio'] = pd.to_numeric(df_clean['Credit_Utilization_Ratio'], errors='coerce')\n",
    "print(df_clean['Credit_Utilization_Ratio'].head())"
   ]
  },
  {
   "cell_type": "markdown",
   "metadata": {},
   "source": [
    "### Escolha das colunas para os algoritmos de classificação"
   ]
  },
  {
   "cell_type": "markdown",
   "metadata": {},
   "source": [
    "features: age, occupation, annual_income, delay_drom_due_date, num_of_delayed_payment, num_credit_inquiries, credit_utilization_rate\n",
    "\n",
    "target: credit_score"
   ]
  },
  {
   "cell_type": "code",
   "execution_count": 24,
   "metadata": {},
   "outputs": [
    {
     "name": "stdout",
     "output_type": "stream",
     "text": [
      "Age                           Int64\n",
      "Occupation                   object\n",
      "Annual_Income                object\n",
      "Delay_from_due_date           int64\n",
      "Num_of_Delayed_Payment      float64\n",
      "Num_Credit_Inquiries        float64\n",
      "Credit_Utilization_Ratio    float64\n",
      "dtype: object\n"
     ]
    }
   ],
   "source": [
    "colunas = ['Age', 'Occupation', 'Annual_Income', 'Delay_from_due_date', 'Num_of_Delayed_Payment', 'Num_Credit_Inquiries', 'Credit_Utilization_Ratio']\n",
    "\n",
    "tipos_de_dados = df_clean[colunas].dtypes\n",
    "print(tipos_de_dados)"
   ]
  },
  {
   "cell_type": "markdown",
   "metadata": {},
   "source": [
    "Transformar coluna Annual_Income para numérica"
   ]
  },
  {
   "cell_type": "code",
   "execution_count": 25,
   "metadata": {},
   "outputs": [
    {
     "data": {
      "text/plain": [
       "0        19114.119141\n",
       "3        19114.119141\n",
       "5        19114.119141\n",
       "9        34847.839844\n",
       "10                NaN\n",
       "             ...     \n",
       "99994    39628.988281\n",
       "99995    39628.988281\n",
       "99996    39628.988281\n",
       "99997    39628.988281\n",
       "99999             NaN\n",
       "Name: Annual_Income, Length: 57765, dtype: float32"
      ]
     },
     "execution_count": 25,
     "metadata": {},
     "output_type": "execute_result"
    }
   ],
   "source": [
    "df_clean['Annual_Income'] = pd.to_numeric(df_clean['Annual_Income'], errors='coerce')\n",
    "df_clean['Annual_Income'].astype('float32')"
   ]
  },
  {
   "cell_type": "code",
   "execution_count": 26,
   "metadata": {},
   "outputs": [],
   "source": [
    "# Eliminar os NaN que surgiram na coluna\n",
    "df_clean.dropna(subset=['Annual_Income'], inplace=True)"
   ]
  },
  {
   "cell_type": "code",
   "execution_count": 27,
   "metadata": {},
   "outputs": [
    {
     "data": {
      "text/plain": [
       "Occupation\n",
       "_______          3775\n",
       "Lawyer           3604\n",
       "Mechanic         3481\n",
       "Engineer         3409\n",
       "Architect        3406\n",
       "Scientist        3360\n",
       "Teacher          3360\n",
       "Doctor           3360\n",
       "Developer        3343\n",
       "Entrepreneur     3329\n",
       "Accountant       3322\n",
       "Media_Manager    3292\n",
       "Journalist       3219\n",
       "Writer           3172\n",
       "Musician         3167\n",
       "Manager          3158\n",
       "Name: count, dtype: int64"
      ]
     },
     "execution_count": 27,
     "metadata": {},
     "output_type": "execute_result"
    }
   ],
   "source": [
    "df_clean['Occupation'].value_counts()"
   ]
  },
  {
   "cell_type": "markdown",
   "metadata": {},
   "source": [
    "Na coluna Occupation tem o valor '------', vamos exlcuir"
   ]
  },
  {
   "cell_type": "code",
   "execution_count": 28,
   "metadata": {},
   "outputs": [
    {
     "name": "stdout",
     "output_type": "stream",
     "text": [
      "Occupation\n",
      "Lawyer           3604\n",
      "Mechanic         3481\n",
      "Engineer         3409\n",
      "Architect        3406\n",
      "Scientist        3360\n",
      "Teacher          3360\n",
      "Doctor           3360\n",
      "Developer        3343\n",
      "Entrepreneur     3329\n",
      "Accountant       3322\n",
      "Media_Manager    3292\n",
      "Journalist       3219\n",
      "Writer           3172\n",
      "Musician         3167\n",
      "Manager          3158\n",
      "Name: count, dtype: int64\n"
     ]
    }
   ],
   "source": [
    "df_clean['Occupation'].replace('_______', pd.NA, inplace=True)\n",
    "df_clean.dropna(subset=['Occupation'], inplace=True)\n",
    "print(df_clean['Occupation'].value_counts())"
   ]
  },
  {
   "cell_type": "markdown",
   "metadata": {},
   "source": [
    "Transformar a coluna Occupation em numérica usando o Frequency Encoding: técnica que transforma cada categoria em seu respectivo número de ocorrência na coluna, substituindo a categoria pelo número de vezes que ela aparece. "
   ]
  },
  {
   "cell_type": "code",
   "execution_count": 29,
   "metadata": {},
   "outputs": [
    {
     "name": "stdout",
     "output_type": "stream",
     "text": [
      "   Occupation  Occupation_Frequency_Encoded\n",
      "0   Scientist                      0.067224\n",
      "3   Scientist                      0.067224\n",
      "5   Scientist                      0.067224\n",
      "9     Teacher                      0.067224\n",
      "12    Teacher                      0.067224\n"
     ]
    }
   ],
   "source": [
    "# Calcular a contagem de ocorrência de cada vlaor na coluna\n",
    "freq_ocupacao = df_clean['Occupation'].value_counts(normalize=True)\n",
    "\n",
    "# Mapear os valores da coluna \"Occupation\" para as suas frequências\n",
    "df_clean['Occupation_Frequency_Encoded'] = df_clean['Occupation'].map(freq_ocupacao)\n",
    "\n",
    "# Exibindo as primeiras linhas após a codificação\n",
    "print(df_clean[['Occupation', 'Occupation_Frequency_Encoded']].head())"
   ]
  },
  {
   "cell_type": "markdown",
   "metadata": {},
   "source": [
    "Atribuir um valor numérico a cada categoria da coluna 'Credit_Score'"
   ]
  },
  {
   "cell_type": "code",
   "execution_count": 30,
   "metadata": {},
   "outputs": [
    {
     "data": {
      "text/plain": [
       "Credit_Score\n",
       "Standard    26426\n",
       "Poor        15193\n",
       "Good         8363\n",
       "Name: count, dtype: int64"
      ]
     },
     "execution_count": 30,
     "metadata": {},
     "output_type": "execute_result"
    }
   ],
   "source": [
    "df_clean['Credit_Score'].value_counts()"
   ]
  },
  {
   "cell_type": "code",
   "execution_count": 31,
   "metadata": {},
   "outputs": [
    {
     "name": "stdout",
     "output_type": "stream",
     "text": [
      "   Credit_Score  Credit_Score_Numeric\n",
      "0          Good                     3\n",
      "3          Good                     3\n",
      "5          Good                     3\n",
      "9          Good                     3\n",
      "12         Good                     3\n"
     ]
    }
   ],
   "source": [
    "score_mapping = {'Standard': 2, 'Poor': 1, 'Good': 3}\n",
    "\n",
    "df_clean['Credit_Score_Numeric'] = df_clean['Credit_Score'].map(score_mapping)\n",
    "\n",
    "print(df_clean[['Credit_Score', 'Credit_Score_Numeric']].head())"
   ]
  },
  {
   "cell_type": "markdown",
   "metadata": {},
   "source": [
    "Importar as bibliotecas"
   ]
  },
  {
   "cell_type": "code",
   "execution_count": 32,
   "metadata": {},
   "outputs": [],
   "source": [
    "from sklearn.model_selection import train_test_split\n",
    "from sklearn.metrics import classification_report\n",
    "from sklearn.ensemble import RandomForestClassifier\n",
    "from xgboost import XGBClassifier\n",
    "from sklearn.neighbors import KNeighborsClassifier"
   ]
  },
  {
   "cell_type": "markdown",
   "metadata": {},
   "source": [
    "Escolhendo as variáveis explicativas (features) e a alvo (target)"
   ]
  },
  {
   "cell_type": "code",
   "execution_count": 33,
   "metadata": {},
   "outputs": [],
   "source": [
    "features = ['Age', 'Occupation_Frequency_Encoded', 'Annual_Income', 'Delay_from_due_date', 'Num_of_Delayed_Payment', 'Num_Credit_Inquiries', 'Credit_Utilization_Ratio']\n",
    "target = 'Credit_Score_Numeric'\n",
    "\n",
    "X = df_clean[features]\n",
    "y = df_clean[target]"
   ]
  },
  {
   "cell_type": "markdown",
   "metadata": {},
   "source": [
    "Dividir em dados de treino e teste"
   ]
  },
  {
   "cell_type": "code",
   "execution_count": 34,
   "metadata": {},
   "outputs": [],
   "source": [
    "X_train, X_test, y_train, y_test = train_test_split(X, y, test_size=0.2, shuffle=True, random_state=42)"
   ]
  },
  {
   "cell_type": "markdown",
   "metadata": {},
   "source": [
    "### 1. KNN"
   ]
  },
  {
   "cell_type": "markdown",
   "metadata": {},
   "source": [
    "Inicializando e treinando o modelo "
   ]
  },
  {
   "cell_type": "code",
   "execution_count": 35,
   "metadata": {},
   "outputs": [
    {
     "data": {
      "text/plain": [
       "KNeighborsClassifier()"
      ]
     },
     "execution_count": 35,
     "metadata": {},
     "output_type": "execute_result"
    }
   ],
   "source": [
    "knn = KNeighborsClassifier(n_neighbors=5)\n",
    "knn.fit(X_train, y_train)"
   ]
  },
  {
   "cell_type": "markdown",
   "metadata": {},
   "source": [
    "Fazendo previsões com o modelo"
   ]
  },
  {
   "cell_type": "code",
   "execution_count": 36,
   "metadata": {},
   "outputs": [],
   "source": [
    "knn_prev = knn.predict(X_test)"
   ]
  },
  {
   "cell_type": "markdown",
   "metadata": {},
   "source": [
    "Avaliando o modelo"
   ]
  },
  {
   "cell_type": "code",
   "execution_count": 37,
   "metadata": {},
   "outputs": [
    {
     "name": "stdout",
     "output_type": "stream",
     "text": [
      "Relatório:\n",
      "               precision    recall  f1-score   support\n",
      "\n",
      "           1       0.67      0.73      0.70      2986\n",
      "           2       0.74      0.75      0.75      5350\n",
      "           3       0.66      0.54      0.59      1661\n",
      "\n",
      "    accuracy                           0.71      9997\n",
      "   macro avg       0.69      0.67      0.68      9997\n",
      "weighted avg       0.71      0.71      0.71      9997\n",
      "\n"
     ]
    }
   ],
   "source": [
    "print(f'Relatório:\\n {classification_report(y_test, knn_prev)}')"
   ]
  },
  {
   "cell_type": "markdown",
   "metadata": {},
   "source": [
    "### 2. RANDOM FOREST"
   ]
  },
  {
   "cell_type": "markdown",
   "metadata": {},
   "source": [
    "Inicializar e treinar o modelo"
   ]
  },
  {
   "cell_type": "code",
   "execution_count": 38,
   "metadata": {},
   "outputs": [
    {
     "data": {
      "text/plain": [
       "RandomForestClassifier(criterion='entropy', max_depth=25)"
      ]
     },
     "execution_count": 38,
     "metadata": {},
     "output_type": "execute_result"
    }
   ],
   "source": [
    "rnd_forest = RandomForestClassifier(criterion='entropy', max_depth=25)\n",
    "rnd_forest.fit(X_train, y_train)"
   ]
  },
  {
   "cell_type": "markdown",
   "metadata": {},
   "source": [
    "Previsões"
   ]
  },
  {
   "cell_type": "code",
   "execution_count": 39,
   "metadata": {},
   "outputs": [],
   "source": [
    "prev_rnd_forest = rnd_forest.predict(X_test)"
   ]
  },
  {
   "cell_type": "markdown",
   "metadata": {},
   "source": [
    "Avaliação do modelo"
   ]
  },
  {
   "cell_type": "code",
   "execution_count": 40,
   "metadata": {},
   "outputs": [
    {
     "name": "stdout",
     "output_type": "stream",
     "text": [
      "Relatório:\n",
      "               precision    recall  f1-score   support\n",
      "\n",
      "           1       0.72      0.71      0.71      2986\n",
      "           2       0.73      0.77      0.75      5350\n",
      "           3       0.66      0.54      0.59      1661\n",
      "\n",
      "    accuracy                           0.72      9997\n",
      "   macro avg       0.70      0.67      0.69      9997\n",
      "weighted avg       0.71      0.72      0.71      9997\n",
      "\n"
     ]
    }
   ],
   "source": [
    "print(f'Relatório:\\n {classification_report(y_test, prev_rnd_forest)}')"
   ]
  },
  {
   "cell_type": "markdown",
   "metadata": {},
   "source": [
    "### 3. XGBoost"
   ]
  },
  {
   "cell_type": "markdown",
   "metadata": {},
   "source": [
    "Para poder usar o XGBoost os rótulos de y tem que estar no formato esperado, começar por 0"
   ]
  },
  {
   "cell_type": "code",
   "execution_count": 41,
   "metadata": {},
   "outputs": [],
   "source": [
    "import numpy as np\n",
    "\n",
    "y = np.array(y) - 1\n"
   ]
  },
  {
   "cell_type": "code",
   "execution_count": 42,
   "metadata": {},
   "outputs": [],
   "source": [
    "X_train, X_test, y_train, y_test = train_test_split(X, y, test_size=0.2, shuffle=True, random_state=42)"
   ]
  },
  {
   "cell_type": "code",
   "execution_count": 43,
   "metadata": {},
   "outputs": [
    {
     "name": "stdout",
     "output_type": "stream",
     "text": [
      "Classes corrigidas [0 1 2]\n"
     ]
    }
   ],
   "source": [
    "unique_classes = np.unique(y)\n",
    "print(f'Classes corrigidas {unique_classes}')"
   ]
  },
  {
   "cell_type": "markdown",
   "metadata": {},
   "source": [
    "Inicializar e treinar o modelo"
   ]
  },
  {
   "cell_type": "code",
   "execution_count": 44,
   "metadata": {},
   "outputs": [
    {
     "data": {
      "text/plain": [
       "XGBClassifier(base_score=None, booster=None, callbacks=None,\n",
       "              colsample_bylevel=None, colsample_bynode=None,\n",
       "              colsample_bytree=None, device=None, early_stopping_rounds=None,\n",
       "              enable_categorical=False, eval_metric=None, feature_types=None,\n",
       "              gamma=None, grow_policy=None, importance_type=None,\n",
       "              interaction_constraints=None, learning_rate=None, max_bin=None,\n",
       "              max_cat_threshold=None, max_cat_to_onehot=None,\n",
       "              max_delta_step=None, max_depth=None, max_leaves=None,\n",
       "              min_child_weight=None, missing=nan, monotone_constraints=None,\n",
       "              multi_strategy=None, n_estimators=None, n_jobs=None,\n",
       "              num_parallel_tree=None, objective='multi:softprob', ...)"
      ]
     },
     "execution_count": 44,
     "metadata": {},
     "output_type": "execute_result"
    }
   ],
   "source": [
    "xg = XGBClassifier()\n",
    "xg.fit(X_train, y_train)"
   ]
  },
  {
   "cell_type": "markdown",
   "metadata": {},
   "source": [
    "Previsões"
   ]
  },
  {
   "cell_type": "code",
   "execution_count": 45,
   "metadata": {},
   "outputs": [],
   "source": [
    "xg_prev = xg.predict(X_test)"
   ]
  },
  {
   "cell_type": "markdown",
   "metadata": {},
   "source": [
    "Avaliação do modelo"
   ]
  },
  {
   "cell_type": "code",
   "execution_count": 46,
   "metadata": {},
   "outputs": [
    {
     "name": "stdout",
     "output_type": "stream",
     "text": [
      "Relatório:               precision    recall  f1-score   support\n",
      "\n",
      "           0       0.67      0.66      0.66      2986\n",
      "           1       0.69      0.75      0.72      5350\n",
      "           2       0.59      0.47      0.52      1661\n",
      "\n",
      "    accuracy                           0.67      9997\n",
      "   macro avg       0.65      0.62      0.63      9997\n",
      "weighted avg       0.67      0.67      0.67      9997\n",
      "\n"
     ]
    }
   ],
   "source": [
    "print(f'Relatório: {classification_report(y_test, xg_prev)}')"
   ]
  },
  {
   "cell_type": "markdown",
   "metadata": {},
   "source": [
    "### CONCLUSÃO\n",
    "\n",
    "Usando os parâmetros padrões dos algoritmos, o que melhor resultado teve na classficação foi o KNN, seguido do Random Forest."
   ]
  }
 ],
 "metadata": {
  "kernelspec": {
   "display_name": "Python 3",
   "language": "python",
   "name": "python3"
  },
  "language_info": {
   "codemirror_mode": {
    "name": "ipython",
    "version": 3
   },
   "file_extension": ".py",
   "mimetype": "text/x-python",
   "name": "python",
   "nbconvert_exporter": "python",
   "pygments_lexer": "ipython3",
   "version": "3.10.1"
  }
 },
 "nbformat": 4,
 "nbformat_minor": 2
}
